{
  "nbformat": 4,
  "nbformat_minor": 0,
  "metadata": {
    "colab": {
      "provenance": [],
      "authorship_tag": "ABX9TyOkbWSiPnqV8tu2kDHtB85A",
      "include_colab_link": true
    },
    "kernelspec": {
      "name": "python3",
      "display_name": "Python 3"
    },
    "language_info": {
      "name": "python"
    }
  },
  "cells": [
    {
      "cell_type": "markdown",
      "metadata": {
        "id": "view-in-github",
        "colab_type": "text"
      },
      "source": [
        "<a href=\"https://colab.research.google.com/github/NellyCN/python-data-science/blob/main/Desafio_Recopilaci%C3%B3n_MuestraDatos.ipynb\" target=\"_parent\"><img src=\"https://colab.research.google.com/assets/colab-badge.svg\" alt=\"Open In Colab\"/></a>"
      ]
    },
    {
      "cell_type": "markdown",
      "source": [
        "DESAFÍO: ¡Es hora de practicar!\n",
        "---\n",
        "\n"
      ],
      "metadata": {
        "id": "Ns08US3gRqLt"
      }
    },
    {
      "cell_type": "markdown",
      "source": [
        "Vamos a practicar el uso de varios tipos de variables y la función input a través de algunas actividades. Resuelve los problemas propuestos en código."
      ],
      "metadata": {
        "id": "F6gvd6nPRjQl"
      }
    },
    {
      "cell_type": "markdown",
      "source": [
        "##Recopilación y muestra de datos"
      ],
      "metadata": {
        "id": "pye2oZq0Rdyu"
      }
    },
    {
      "cell_type": "markdown",
      "source": [
        "1 - Crea un programa que solicite al usuario que escriba su nombre y luego imprima \"Hola, [nombre].\""
      ],
      "metadata": {
        "id": "oZC_r1JARZWm"
      }
    },
    {
      "cell_type": "code",
      "execution_count": 1,
      "metadata": {
        "colab": {
          "base_uri": "https://localhost:8080/"
        },
        "id": "Yu-kLwpuRJ_B",
        "outputId": "2cd581f8-045d-406a-a228-b8c98233477c"
      },
      "outputs": [
        {
          "output_type": "stream",
          "name": "stdout",
          "text": [
            "¿Cuál es tu nombre? Nelly\n",
            "Hola, Nelly\n"
          ]
        }
      ],
      "source": [
        "nombre = input('¿Cuál es tu nombre? ')\n",
        "print(f'Hola, {nombre}')"
      ]
    },
    {
      "cell_type": "markdown",
      "source": [
        "2 - Crea un programa que solicite al usuario que escriba su nombre y edad, y luego imprima \"Hola, [nombre], tienes [edad] años.\""
      ],
      "metadata": {
        "id": "mOzHIia0ScC_"
      }
    },
    {
      "cell_type": "code",
      "source": [
        "nombre = input('¿Cuál es tu nombre? ')\n",
        "edad = input('¿Cuál es tu edad? ')\n",
        "print(f'Hola, {nombre}, tienes {edad} años')"
      ],
      "metadata": {
        "colab": {
          "base_uri": "https://localhost:8080/"
        },
        "id": "s15beq3DRiYh",
        "outputId": "4eef7b8f-c938-42a7-9db9-568c69cd284d"
      },
      "execution_count": 3,
      "outputs": [
        {
          "output_type": "stream",
          "name": "stdout",
          "text": [
            "¿Cuál es tu nombre? Ana\n",
            "¿Cuál es tu edad? 25\n",
            "Hola, Ana, tienes 25 años\n"
          ]
        }
      ]
    },
    {
      "cell_type": "markdown",
      "source": [
        "3 - Crea un programa que solicite al usuario que escriba su nombre, edad y altura en metros, y luego imprima \"Hola, [nombre], tienes [edad] años y mides [altura] metros.\"\n"
      ],
      "metadata": {
        "id": "u85jmNI6Sgdm"
      }
    },
    {
      "cell_type": "code",
      "source": [
        "nombre = input('¿Cuál es tu nombre? ')\n",
        "edad = input('¿Cuál es tu edad? ')\n",
        "altura = input('¿Cuál es tu altura en metros? ')\n",
        "print(f'Hola, {nombre}, tienes {edad} años y mides {altura} metros')"
      ],
      "metadata": {
        "colab": {
          "base_uri": "https://localhost:8080/"
        },
        "id": "AtfrzrITSktt",
        "outputId": "585089ed-87fb-45cf-91da-5e209ba23516"
      },
      "execution_count": 4,
      "outputs": [
        {
          "output_type": "stream",
          "name": "stdout",
          "text": [
            "¿Cuál es tu nombre? Mary\n",
            "¿Cuál es tu edad? 32\n",
            "¿Cuál es tu altura en metros? 1.75\n",
            "Hola, Mary, tienes 32 años y mides 1.75 metros\n"
          ]
        }
      ]
    },
    {
      "cell_type": "markdown",
      "source": [
        "##Calculadora con operadores"
      ],
      "metadata": {
        "id": "nHCHSAX3Sm12"
      }
    },
    {
      "cell_type": "markdown",
      "source": [
        "4 - Crea un programa que solicite dos valores numéricos al usuario y luego imprima la suma de ambos valores."
      ],
      "metadata": {
        "id": "r7VKB5-3Srzl"
      }
    },
    {
      "cell_type": "code",
      "source": [
        "n1 = input('Ingrese el primer número: ')\n",
        "n2 = input('Ingrese el segundo número: ')\n",
        "suma = int(n1) + int(n2)\n",
        "print(f'La suma de {n1} y {n2} es {suma}')"
      ],
      "metadata": {
        "colab": {
          "base_uri": "https://localhost:8080/"
        },
        "id": "9uvI7L0WSts9",
        "outputId": "caa892e8-38de-4f85-c230-9036c9478831"
      },
      "execution_count": 5,
      "outputs": [
        {
          "output_type": "stream",
          "name": "stdout",
          "text": [
            "Ingrese el primer número: 15\n",
            "Ingrese el segundo número: 47\n",
            "La suma de 15 y 47 es 62\n"
          ]
        }
      ]
    },
    {
      "cell_type": "markdown",
      "source": [
        "5 - Crea un programa que solicite tres valores numéricos al usuario y luego imprima la suma de los tres valores."
      ],
      "metadata": {
        "id": "AFHjqMo5Svi2"
      }
    },
    {
      "cell_type": "code",
      "source": [
        "n1 = input('Ingrese el primer número: ')\n",
        "n2 = input('Ingrese el segundo número: ')\n",
        "n3 = input('Ingrese el tercer número: ')\n",
        "suma = int(n1) + int(n2) + int(n3)\n",
        "print(f'La suma de {n1}, {n2} y {n3} es {suma}')"
      ],
      "metadata": {
        "colab": {
          "base_uri": "https://localhost:8080/"
        },
        "id": "glISbRLbSwl2",
        "outputId": "609fb53d-e800-411d-d949-370de8081144"
      },
      "execution_count": 7,
      "outputs": [
        {
          "output_type": "stream",
          "name": "stdout",
          "text": [
            "Ingrese el primer número: 12\n",
            "Ingrese el segundo número: 40\n",
            "Ingrese el tercer número: 35\n",
            "La suma de 12, 40 y 35 es 87\n"
          ]
        }
      ]
    },
    {
      "cell_type": "markdown",
      "source": [
        "6 - Crea un programa que solicite dos valores numéricos al usuario y luego imprima la resta del primero menos el segundo valor."
      ],
      "metadata": {
        "id": "e056EH5_Sydt"
      }
    },
    {
      "cell_type": "code",
      "source": [
        "n1 = input('Ingrese el primer número: ')\n",
        "n2 = input('Ingrese el segundo número: ')\n",
        "resta = int(n1) - int(n2)\n",
        "print(f'La resta de {n1} menos {n2} es {resta}')"
      ],
      "metadata": {
        "colab": {
          "base_uri": "https://localhost:8080/"
        },
        "id": "8Pl5PlM9SzRN",
        "outputId": "080b85e6-2eec-49b0-f3e1-b70a4b87576c"
      },
      "execution_count": 8,
      "outputs": [
        {
          "output_type": "stream",
          "name": "stdout",
          "text": [
            "Ingrese el primer número: 50\n",
            "Ingrese el segundo número: 32\n",
            "La resta de 50 menos 32 es 18\n"
          ]
        }
      ]
    },
    {
      "cell_type": "markdown",
      "source": [
        "7 - Crea un programa que solicite dos valores numéricos al usuario y luego imprima la multiplicación de los dos valores."
      ],
      "metadata": {
        "id": "wTACwbdVSzwt"
      }
    },
    {
      "cell_type": "code",
      "source": [
        "n1 = input('Ingrese el primer número: ')\n",
        "n2 = input('Ingrese el segundo número: ')\n",
        "multip = int(n1) * int(n2)\n",
        "print(f'La multiplicación de {n1} y {n2} es {multip}')"
      ],
      "metadata": {
        "colab": {
          "base_uri": "https://localhost:8080/"
        },
        "id": "Rbxp9w3JS1jt",
        "outputId": "d7093d68-3f3f-4262-ec04-df833bda14cc"
      },
      "execution_count": 9,
      "outputs": [
        {
          "output_type": "stream",
          "name": "stdout",
          "text": [
            "Ingrese el primer número: 8\n",
            "Ingrese el segundo número: 5\n",
            "La multiplicación de 8 y 5 es 40\n"
          ]
        }
      ]
    },
    {
      "cell_type": "markdown",
      "source": [
        "8 - Crea un programa que solicite dos valores numéricos, un numerador y un denominador, y realice la división entre los dos valores. Asegúrate de que el valor del denominador no sea igual a 0."
      ],
      "metadata": {
        "id": "L4oJEf3vS2Wu"
      }
    },
    {
      "cell_type": "code",
      "source": [
        "n1 = input('Ingrese el primer número: ')\n",
        "n2 = input('Ingrese el segundo número: ')\n",
        "divi = int(n1) / int(n2)\n",
        "print(f'La división de {n1} entre {n2} es {divi}')"
      ],
      "metadata": {
        "colab": {
          "base_uri": "https://localhost:8080/"
        },
        "id": "xcpdsXJZS43N",
        "outputId": "23979db4-9486-41f5-a25c-c128e5113f33"
      },
      "execution_count": 11,
      "outputs": [
        {
          "output_type": "stream",
          "name": "stdout",
          "text": [
            "Ingrese el primer número: 50\n",
            "Ingrese el segundo número: 5\n",
            "La división de 50 entre 5 es 10.0\n"
          ]
        }
      ]
    },
    {
      "cell_type": "markdown",
      "source": [
        "9 - Crea un programa que solicite dos valores numéricos, un operador y una potencia, y realice la exponenciación entre estos dos valores."
      ],
      "metadata": {
        "id": "ZITQu5ZbS5M1"
      }
    },
    {
      "cell_type": "code",
      "source": [
        "n1 = input('Ingrese el primer número: ')\n",
        "n2 = input('Ingrese el segundo número: ')\n",
        "potencia = int(n1) ** int(n2)\n",
        "print(f'La potencia de {n1} al {n2} es {potencia}')"
      ],
      "metadata": {
        "colab": {
          "base_uri": "https://localhost:8080/"
        },
        "id": "eNrPDJqhS6sX",
        "outputId": "96e19998-32d0-44fb-f342-d9905ee1e18f"
      },
      "execution_count": 12,
      "outputs": [
        {
          "output_type": "stream",
          "name": "stdout",
          "text": [
            "Ingrese el primer número: 8\n",
            "Ingrese el segundo número: 3\n",
            "La potencia de 8 al 3 es 512\n"
          ]
        }
      ]
    },
    {
      "cell_type": "markdown",
      "source": [
        "10 - Crea un programa que solicite dos valores numéricos, un numerador y un denominador, y realice la división entera entre los dos valores. Asegúrate de que el valor del denominador no sea igual a 0."
      ],
      "metadata": {
        "id": "L9kXm4clS8Cf"
      }
    },
    {
      "cell_type": "code",
      "source": [
        "n1 = input('Ingrese el primer número: ')\n",
        "n2 = input('Ingrese el segundo número: ')\n",
        "divi = int(n1) // int(n2)\n",
        "print(f'La división entera de {n1} entre {n2} es {divi}')"
      ],
      "metadata": {
        "colab": {
          "base_uri": "https://localhost:8080/"
        },
        "id": "YfiML5f2S8w-",
        "outputId": "fdebef33-2590-47e1-8653-88d7c38f8c2b"
      },
      "execution_count": 13,
      "outputs": [
        {
          "output_type": "stream",
          "name": "stdout",
          "text": [
            "Ingrese el primer número: 100\n",
            "Ingrese el segundo número: 20\n",
            "La división entera de 100 entre 20 es 5\n"
          ]
        }
      ]
    },
    {
      "cell_type": "markdown",
      "source": [
        "11 - Crea un programa que solicite dos valores numéricos, un numerador y un denominador, y devuelva el resto de la división entre los dos valores. Asegúrate de que el valor del denominador no sea igual a 0."
      ],
      "metadata": {
        "id": "WbJwLU8uS-e9"
      }
    },
    {
      "cell_type": "code",
      "source": [
        "n1 = input('Ingrese el primer número: ')\n",
        "n2 = input('Ingrese el segundo número: ')\n",
        "resto = int(n1) % int(n2)\n",
        "print(f'El resto de dividir {n1} entre {n2} es {resto}')"
      ],
      "metadata": {
        "colab": {
          "base_uri": "https://localhost:8080/"
        },
        "id": "vGN_9Q-cS_dm",
        "outputId": "f5fac7bf-d74e-4bfe-8e64-9e3280463c4f"
      },
      "execution_count": 1,
      "outputs": [
        {
          "output_type": "stream",
          "name": "stdout",
          "text": [
            "Ingrese el primer número: 50\n",
            "Ingrese el segundo número: 4\n",
            "El resto de dividir 50 entre 4 es 2\n"
          ]
        }
      ]
    },
    {
      "cell_type": "markdown",
      "source": [
        "12 - Crea un código que solicite las 3 notas de un estudiante e imprima el promedio de las notas."
      ],
      "metadata": {
        "id": "ByzFg97UTApu"
      }
    },
    {
      "cell_type": "code",
      "source": [
        "nota1 = input('Ingrese la primera nota: ')\n",
        "nota2 = input('Ingrese la segunda nota: ')\n",
        "nota3 = input('Ingrese la tercera nota: ')\n",
        "promedio = (int(nota1) + int(nota2) + int(nota3)) / 3\n",
        "print(f'El promedio de las notas {nota1}, {nota2} y {nota3} es {promedio}')"
      ],
      "metadata": {
        "colab": {
          "base_uri": "https://localhost:8080/"
        },
        "id": "oskyzxs9TBIW",
        "outputId": "66066deb-acaa-451b-8e6e-a38eb6b4c27e"
      },
      "execution_count": 2,
      "outputs": [
        {
          "output_type": "stream",
          "name": "stdout",
          "text": [
            "Ingrese la primera nota: 15\n",
            "Ingrese la segunda nota: 20\n",
            "Ingrese la tercera nota: 45\n",
            "El promedio de las notas 15, 20 y 45 es 26.666666666666668\n"
          ]
        }
      ]
    },
    {
      "cell_type": "markdown",
      "source": [
        "13 - Crea un código que calcule e imprima el promedio ponderado de los números 5, 12, 20 y 15 con pesos respectivamente iguales a 1, 2, 3 y 4."
      ],
      "metadata": {
        "id": "X5YikkEBTC73"
      }
    },
    {
      "cell_type": "code",
      "source": [
        "promedio = (5 + 12 + 20 + 15) / 4\n",
        "print(f'El promedio ponderado de los números 5, 12, 20 y 15 es {promedio}')"
      ],
      "metadata": {
        "colab": {
          "base_uri": "https://localhost:8080/"
        },
        "id": "-deS2wSkTD22",
        "outputId": "e5f9bb18-9f6a-46ea-c595-846d89873bac"
      },
      "execution_count": 3,
      "outputs": [
        {
          "output_type": "stream",
          "name": "stdout",
          "text": [
            "El promedio ponderado de los números 5, 12, 20 y 15 es 13.0\n"
          ]
        }
      ]
    },
    {
      "cell_type": "markdown",
      "source": [
        "##Editando textos"
      ],
      "metadata": {
        "id": "r3xJ-dyJTEx9"
      }
    },
    {
      "cell_type": "markdown",
      "source": [
        "14 - Crea una variable llamada \"frase\" y asígnale una cadena de texto de tu elección. Luego, imprime la frase en pantalla."
      ],
      "metadata": {
        "id": "WVUr6hROTHeW"
      }
    },
    {
      "cell_type": "code",
      "source": [
        "frase = \"la frase más bella suele ser la de un poeta\"\n",
        "print(frase)"
      ],
      "metadata": {
        "colab": {
          "base_uri": "https://localhost:8080/"
        },
        "id": "fVmKkJbkTJ39",
        "outputId": "8b31f86e-a3e8-4370-f7d0-263e0396e941"
      },
      "execution_count": 4,
      "outputs": [
        {
          "output_type": "stream",
          "name": "stdout",
          "text": [
            "la frase más bella suele ser la de un poeta\n"
          ]
        }
      ]
    },
    {
      "cell_type": "markdown",
      "source": [
        "15 - Crea un código que solicite una frase y luego imprima la frase en pantalla."
      ],
      "metadata": {
        "id": "supQImAVTdiO"
      }
    },
    {
      "cell_type": "code",
      "source": [
        "frase = input('Ingrese una frase: ')\n",
        "print(frase)"
      ],
      "metadata": {
        "colab": {
          "base_uri": "https://localhost:8080/"
        },
        "id": "jk04V0xqTfW1",
        "outputId": "f03dac82-e537-4c18-cf90-67713a16007c"
      },
      "execution_count": 5,
      "outputs": [
        {
          "output_type": "stream",
          "name": "stdout",
          "text": [
            "Ingrese una frase: La curva mas hermosa de una mujer es la que se forma con su sonrisa =)\n",
            "La curva mas hermosa de una mujer es la que se forma con su sonrisa =)\n"
          ]
        }
      ]
    },
    {
      "cell_type": "markdown",
      "source": [
        "16 - Crea un código que solicite una frase al usuario y luego imprima la misma frase ingresada pero en mayúsculas."
      ],
      "metadata": {
        "id": "325JOAJYTf59"
      }
    },
    {
      "cell_type": "code",
      "source": [
        "frase = input('Ingrese una frase: ')\n",
        "print(frase.upper())"
      ],
      "metadata": {
        "colab": {
          "base_uri": "https://localhost:8080/"
        },
        "id": "HB2rU-ZcThcV",
        "outputId": "2c6e914f-1859-470b-bc9b-9efb07e26378"
      },
      "execution_count": 7,
      "outputs": [
        {
          "output_type": "stream",
          "name": "stdout",
          "text": [
            "Ingrese una frase: La curva mas hermosa de una mujer es la que se forma con su sonrisa :)\n",
            "LA CURVA MAS HERMOSA DE UNA MUJER ES LA QUE SE FORMA CON SU SONRISA :)\n"
          ]
        }
      ]
    },
    {
      "cell_type": "markdown",
      "source": [
        "17 - Crea un código que solicite una frase al usuario y luego imprima la misma frase ingresada pero en minúsculas."
      ],
      "metadata": {
        "id": "V_mE-0CfThvd"
      }
    },
    {
      "cell_type": "code",
      "source": [
        "frase = input('Ingrese una frase: ')\n",
        "print(frase.lower())"
      ],
      "metadata": {
        "colab": {
          "base_uri": "https://localhost:8080/"
        },
        "id": "eN6OUabwTjen",
        "outputId": "7f2ceeca-a57e-477d-bfe9-d9e27815f917"
      },
      "execution_count": 8,
      "outputs": [
        {
          "output_type": "stream",
          "name": "stdout",
          "text": [
            "Ingrese una frase: LA CURVA MAS HERMOSA DE UNA MUJER ES LA QUE SE FORMA CON SU SONRISA :)\n",
            "la curva mas hermosa de una mujer es la que se forma con su sonrisa :)\n"
          ]
        }
      ]
    },
    {
      "cell_type": "markdown",
      "source": [
        "18 - Crea una variable llamada \"frase\" y asígnale una cadena de texto de tu elección. Luego, imprime la frase sin espacios en blanco al principio y al final."
      ],
      "metadata": {
        "id": "kaAtoptdTjy2"
      }
    },
    {
      "cell_type": "code",
      "source": [
        "frase = '   Cada día es una oportunidad para vivir y aprender algo nuevo . '\n",
        "print(frase.strip())"
      ],
      "metadata": {
        "colab": {
          "base_uri": "https://localhost:8080/"
        },
        "id": "RF89v2pYTl2N",
        "outputId": "582e0368-3277-4f7f-c1a5-bd81dc2809a7"
      },
      "execution_count": 10,
      "outputs": [
        {
          "output_type": "stream",
          "name": "stdout",
          "text": [
            "Cada día es una oportunidad para vivir y aprender algo nuevo .\n"
          ]
        }
      ]
    },
    {
      "cell_type": "code",
      "source": [],
      "metadata": {
        "id": "2d4mfDQ1YvZX"
      },
      "execution_count": null,
      "outputs": []
    }
  ]
}